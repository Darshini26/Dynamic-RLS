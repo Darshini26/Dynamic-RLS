{
 "metadata": {
  "kernelspec": {
   "display_name": "Streamlit Notebook",
   "name": "streamlit"
  },
  "lastEditStatus": {
   "notebookId": "m3webfl6jxtcmkfal3bf",
   "authorId": "8674836884090",
   "authorName": "DARSHINI",
   "authorEmail": "darshini.n@cittabase.com",
   "sessionId": "8f4989ff-78b3-46c9-bfdd-8fa8b54e3f5f",
   "lastEditTime": 1744280857846
  }
 },
 "nbformat_minor": 5,
 "nbformat": 4,
 "cells": [
  {
   "cell_type": "code",
   "id": "3775908f-ca36-4846-8f38-5adca39217f2",
   "metadata": {
    "language": "python",
    "name": "cell1"
   },
   "source": "from snowflake.snowpark import Session\nimport json as js\nimport requests\nimport pandas as pd\nfrom requests.exceptions import RequestException, HTTPError\n\n# Get active Snowflake session\nsession = get_active_session()\n\n# Fetch client ID and secret from Snowflake secure function\ntry:\n    result = session.sql(\"SELECT TEST_SCHEMA.GET_SECRET_VAL()\").collect()\n    raw_result = result[0][0]  # Extract the first value of the first row\n    parsed_result = raw_result.strip('()').split(',')  # Remove parentheses and split by comma\n\n    # Extract and clean values\n    cl_id = parsed_result[0].strip().replace(\"'\", '')  # Clean raw client ID string\n    client_secret = parsed_result[1].strip().replace(\"'\", '') \n  # Clean raw client secret string\nexcept Exception as e:\n    raise RuntimeError(f\"Failed to fetch or parse client credentials: {e}\")\n\n# Microsoft OAuth2 Token URL\nurl = \"https://login.microsoftonline.com/<your_tenant_id>/oauth2/v2.0/token\"\n\n# Prepare payload for token request\npayload = f\"grant_type=client_credentials&scope=https://graph.microsoft.com/.default&client_id={cl_id}&client_secret={client_secret}\"\nheaders = {\"Content-Type\": \"application/x-www-form-urlencoded\"}\n# Microsoft Oauth2 authentication\ntry:\n    response = requests.get(url, data=payload, headers=headers)\n    response.raise_for_status()  # Raise HTTPError for bad responses\n    token_js = js.loads(response.text)\n    token = token_js[\"access_token\"]\nexcept (RequestException, HTTPError) as e:\n    raise RuntimeError(f\"Failed to fetch access token: {e}\")\nexcept KeyError:\n    raise RuntimeError(\"Access token not found in the response\")\n\ndef load_users(url_vl, token, df=None):\n    if df is None:\n        df = pd.DataFrame()\n\n    if not token:\n        raise ValueError(\"Token must be provided\")\n\n    headers = {\n        'Authorization': f\"Bearer {token}\"\n    }\n    try:\n        response = requests.get(url_vl, headers=headers)\n        response.raise_for_status()\n        response_js = js.loads(response.text)\n\n        # Extract and append data to the DataFrame\n        current_df = pd.DataFrame(response_js.get('value', []))\n        df = pd.concat([df, current_df], ignore_index=True)\n\n        # Recursively load next pages if available\n        next_link = response_js.get(\"@odata.nextLink\")\n        if next_link:\n            return load_users(next_link, token, df)\n\n    except KeyError as e:\n        print(f\"Key error encountered: {e}\")\n\n    return df\n\n# Fetching the members of a specific group\nusers_df = load_users(  url_vl=\"https://graph.microsoft.com/v1.0/groups/<group_id>/members\", token=token)\nprint(\"RLS Group User Details:\")\nprint(users_df)\n\n# Fetch the userPrincipalName and usageLocation for each user\nusers_location_df = load_users(    url_vl=\"https://graph.microsoft.com/v1.0/users?$select=userPrincipalName,usageLocation\", token=token)\nprint(\"User Locations Information:\")\nprint(users_location_df)\n\n# Merge the userPrincipalName and usageLocation data with the existing group member data\ndf_merged = pd.merge(users_df, users_location_df[['userPrincipalName', 'usageLocation']], on='userPrincipalName', how='left')\nprint(\"Final Dataframe\")\nprint(df_merged)\n\n# Insert the updated merged data back to Snowflake\nprint('Insert Started')\nsession.write_pandas(df_merged, schema='TEST_SCHEMA', table_name=\"RLS_USERS\", overwrite=True, auto_create_table=True)\nprint('Insert Completed')\n",
   "execution_count": null,
   "outputs": []
  }
 ]
}